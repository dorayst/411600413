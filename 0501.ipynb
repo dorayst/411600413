{
  "nbformat": 4,
  "nbformat_minor": 0,
  "metadata": {
    "colab": {
      "provenance": [],
      "authorship_tag": "ABX9TyNDLL727y+0NPIagiRJo/Uf",
      "include_colab_link": true
    },
    "kernelspec": {
      "name": "python3",
      "display_name": "Python 3"
    },
    "language_info": {
      "name": "python"
    }
  },
  "cells": [
    {
      "cell_type": "markdown",
      "metadata": {
        "id": "view-in-github",
        "colab_type": "text"
      },
      "source": [
        "<a href=\"https://colab.research.google.com/github/dorayst/Introduction-to-Computers/blob/main/0501.ipynb\" target=\"_parent\"><img src=\"https://colab.research.google.com/assets/colab-badge.svg\" alt=\"Open In Colab\"/></a>"
      ]
    },
    {
      "cell_type": "code",
      "execution_count": 39,
      "metadata": {
        "colab": {
          "base_uri": "https://localhost:8080/"
        },
        "id": "ZiFMfUXFDco_",
        "outputId": "1fe23377-d579-4c36-f71e-a9ea1f2c4d5b"
      },
      "outputs": [
        {
          "output_type": "stream",
          "name": "stdout",
          "text": [
            "Hello World\n"
          ]
        }
      ],
      "source": [
        "print(\"Hello World\")"
      ]
    },
    {
      "cell_type": "code",
      "source": [
        "sum=0"
      ],
      "metadata": {
        "id": "uy9yipVXHOVJ"
      },
      "execution_count": 40,
      "outputs": []
    },
    {
      "cell_type": "code",
      "source": [
        "n=int(input(\"請輸入整數\"))"
      ],
      "metadata": {
        "colab": {
          "base_uri": "https://localhost:8080/"
        },
        "id": "7upxSt5eL6St",
        "outputId": "04841fa6-5c15-41ca-cbca-7a8476626781"
      },
      "execution_count": 41,
      "outputs": [
        {
          "name": "stdout",
          "output_type": "stream",
          "text": [
            "請輸入整數5\n"
          ]
        }
      ]
    },
    {
      "cell_type": "code",
      "source": [
        "for i in range (1,n+1): sum+=i"
      ],
      "metadata": {
        "id": "k6jOU8DRMGRC"
      },
      "execution_count": 42,
      "outputs": []
    },
    {
      "cell_type": "code",
      "source": [
        "print(\"到%d的整數和為%d\"%(n,sum))"
      ],
      "metadata": {
        "colab": {
          "base_uri": "https://localhost:8080/"
        },
        "id": "naaESeWaIQoa",
        "outputId": "b805eeaf-775d-4f03-eedf-7c70b4dada95"
      },
      "execution_count": 43,
      "outputs": [
        {
          "output_type": "stream",
          "name": "stdout",
          "text": [
            "到5的整數和為15\n"
          ]
        }
      ]
    },
    {
      "cell_type": "code",
      "source": [
        "F=float(input(\"華氏溫度:\"))"
      ],
      "metadata": {
        "colab": {
          "base_uri": "https://localhost:8080/"
        },
        "id": "6keLbC1wIjg-",
        "outputId": "cc1e6f95-7b63-445a-c61e-8494167192bc"
      },
      "execution_count": 45,
      "outputs": [
        {
          "name": "stdout",
          "output_type": "stream",
          "text": [
            "華氏溫度:180\n"
          ]
        }
      ]
    },
    {
      "cell_type": "code",
      "source": [
        "C=(F-32)*5/9"
      ],
      "metadata": {
        "id": "zlOeU9DkJNEd"
      },
      "execution_count": 46,
      "outputs": []
    },
    {
      "cell_type": "code",
      "source": [
        "print(\"%.1f\"%(C))"
      ],
      "metadata": {
        "colab": {
          "base_uri": "https://localhost:8080/"
        },
        "id": "ZPPncL0MJXIZ",
        "outputId": "1c6c6f93-ad95-428b-a30c-aa903feb5e38"
      },
      "execution_count": 47,
      "outputs": [
        {
          "output_type": "stream",
          "name": "stdout",
          "text": [
            "82.2\n"
          ]
        }
      ]
    },
    {
      "cell_type": "code",
      "source": [
        "D=int(input(\"請輸入本金存款金額\"))"
      ],
      "metadata": {
        "colab": {
          "base_uri": "https://localhost:8080/"
        },
        "id": "XjgInjbhdH_B",
        "outputId": "73a8abe0-5e9e-40b3-af1d-e37bd7229327"
      },
      "execution_count": 48,
      "outputs": [
        {
          "name": "stdout",
          "output_type": "stream",
          "text": [
            "請輸入本金存款金額10000\n"
          ]
        }
      ]
    },
    {
      "cell_type": "code",
      "source": [
        "Y=1.02**6"
      ],
      "metadata": {
        "id": "FqKqjudTdlVX"
      },
      "execution_count": 49,
      "outputs": []
    },
    {
      "cell_type": "code",
      "source": [
        "D*=Y"
      ],
      "metadata": {
        "id": "KVHTi6-ZkE_3"
      },
      "execution_count": 50,
      "outputs": []
    },
    {
      "cell_type": "code",
      "source": [
        "print(\"6年後存款為:\",str(D))"
      ],
      "metadata": {
        "colab": {
          "base_uri": "https://localhost:8080/"
        },
        "id": "k98xgTBQjklo",
        "outputId": "6014908d-0be2-4dd2-af4d-f045eb2f0ab7"
      },
      "execution_count": 51,
      "outputs": [
        {
          "output_type": "stream",
          "name": "stdout",
          "text": [
            "6年後存款為: 11261.62419264\n"
          ]
        }
      ]
    }
  ]
}